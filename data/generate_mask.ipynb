{
 "cells": [
  {
   "cell_type": "code",
   "execution_count": 38,
   "metadata": {
    "collapsed": true
   },
   "outputs": [],
   "source": [
    "import numpy as np\n",
    "import matplotlib.pyplot as plt\n",
    "import random\n",
    "%matplotlib inline"
   ]
  },
  {
   "cell_type": "code",
   "execution_count": 79,
   "metadata": {
    "scrolled": true
   },
   "outputs": [],
   "source": [
    "sizes = np.array([512,512])\n",
    "pct_noise_train = 0.25\n",
    "pct_noise_val = 0.025\n",
    "\n",
    "for ii in range (0,100):\n",
    "    array_train = np.random.choice([0, 1], size=(sizes[0]*sizes[1],), p=[pct_noise_train, 1.-pct_noise_train])\n",
    "    indeces = np.nonzero(array_train)\n",
    "    zeros_validation= random.sample(set(indeces[0]), int(sizes[0]*sizes[1]*pct_noise_val))\n",
    "    array_val = np.ones(shape=(sizes[0]*sizes[1],))\n",
    "    array_val[zeros_validation] = [0]\n",
    "\n",
    "    array_train = array_train.reshape(sizes[0],sizes[1])\n",
    "    array_val = array_val.reshape(sizes[0],sizes[1])\n",
    "    np.save('./masks/train'+str(ii)+'.npy',array_train)\n",
    "    np.save('./masks/val'+str(ii)+'.npy',array_val)\n"
   ]
  },
  {
   "cell_type": "code",
   "execution_count": null,
   "metadata": {},
   "outputs": [],
   "source": []
  },
  {
   "cell_type": "code",
   "execution_count": null,
   "metadata": {},
   "outputs": [],
   "source": []
  },
  {
   "cell_type": "code",
   "execution_count": 75,
   "metadata": {},
   "outputs": [],
   "source": []
  },
  {
   "cell_type": "code",
   "execution_count": null,
   "metadata": {},
   "outputs": [],
   "source": []
  },
  {
   "cell_type": "code",
   "execution_count": null,
   "metadata": {},
   "outputs": [],
   "source": []
  },
  {
   "cell_type": "code",
   "execution_count": null,
   "metadata": {},
   "outputs": [],
   "source": []
  },
  {
   "cell_type": "code",
   "execution_count": null,
   "metadata": {
    "collapsed": true
   },
   "outputs": [],
   "source": []
  }
 ],
 "metadata": {
  "kernelspec": {
   "display_name": "Python 3",
   "language": "python",
   "name": "python3"
  },
  "language_info": {
   "codemirror_mode": {
    "name": "ipython",
    "version": 3
   },
   "file_extension": ".py",
   "mimetype": "text/x-python",
   "name": "python",
   "nbconvert_exporter": "python",
   "pygments_lexer": "ipython3",
   "version": "3.6.2"
  }
 },
 "nbformat": 4,
 "nbformat_minor": 2
}
