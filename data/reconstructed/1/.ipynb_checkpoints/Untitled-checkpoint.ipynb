{
 "cells": [
  {
   "cell_type": "code",
   "execution_count": 3,
   "metadata": {},
   "outputs": [],
   "source": [
    "import imageio\n",
    "image1= imageio.imread('best_1_reconstructed.png')\n",
    "image2= imageio.imread('current_1_reconstructed.png')"
   ]
  },
  {
   "cell_type": "code",
   "execution_count": 4,
   "metadata": {},
   "outputs": [
    {
     "name": "stdout",
     "output_type": "stream",
     "text": [
      "0\n"
     ]
    }
   ],
   "source": [
    "import numpy as np\n",
    "print (np.sum(np.sum(image1-image2)))\n"
   ]
  },
  {
   "cell_type": "code",
   "execution_count": 5,
   "metadata": {},
   "outputs": [
    {
     "data": {
      "text/plain": [
       "Image([[115, 125, 165, ..., 174, 158, 112],\n",
       "       [166, 165, 141, ..., 173, 158, 108],\n",
       "       [165, 166, 144, ..., 173, 143, 106],\n",
       "       ...,\n",
       "       [ 43,  50,  56, ..., 109,  96, 107],\n",
       "       [ 43,  51,  59, ..., 110, 112, 114],\n",
       "       [ 51,  50,  60, ..., 110, 111, 115]], dtype=uint8)"
      ]
     },
     "execution_count": 5,
     "metadata": {},
     "output_type": "execute_result"
    }
   ],
   "source": [
    "image1\n"
   ]
  },
  {
   "cell_type": "code",
   "execution_count": 6,
   "metadata": {},
   "outputs": [
    {
     "data": {
      "text/plain": [
       "Image([[115, 125, 165, ..., 174, 158, 112],\n",
       "       [166, 165, 141, ..., 173, 158, 108],\n",
       "       [165, 166, 144, ..., 173, 143, 106],\n",
       "       ...,\n",
       "       [ 43,  50,  56, ..., 109,  96, 107],\n",
       "       [ 43,  51,  59, ..., 110, 112, 114],\n",
       "       [ 51,  50,  60, ..., 110, 111, 115]], dtype=uint8)"
      ]
     },
     "execution_count": 6,
     "metadata": {},
     "output_type": "execute_result"
    }
   ],
   "source": [
    "image2"
   ]
  },
  {
   "cell_type": "code",
   "execution_count": null,
   "metadata": {
    "collapsed": true
   },
   "outputs": [],
   "source": []
  }
 ],
 "metadata": {
  "kernelspec": {
   "display_name": "Python 3",
   "language": "python",
   "name": "python3"
  },
  "language_info": {
   "codemirror_mode": {
    "name": "ipython",
    "version": 3
   },
   "file_extension": ".py",
   "mimetype": "text/x-python",
   "name": "python",
   "nbconvert_exporter": "python",
   "pygments_lexer": "ipython3",
   "version": "3.6.2"
  }
 },
 "nbformat": 4,
 "nbformat_minor": 2
}
