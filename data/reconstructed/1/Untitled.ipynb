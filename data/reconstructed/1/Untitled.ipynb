{
 "cells": [
  {
   "cell_type": "code",
   "execution_count": 7,
   "metadata": {},
   "outputs": [],
   "source": [
    "import imageio\n",
    "image1= imageio.imread('best_1_reconstructed.png')\n",
    "image2= imageio.imread('current_1_reconstructed.png')"
   ]
  },
  {
   "cell_type": "code",
   "execution_count": 8,
   "metadata": {},
   "outputs": [
    {
     "name": "stdout",
     "output_type": "stream",
     "text": [
      "0\n"
     ]
    }
   ],
   "source": [
    "import numpy as np\n",
    "print (np.sum(np.sum(image1-image2)))\n"
   ]
  },
  {
   "cell_type": "code",
   "execution_count": 9,
   "metadata": {},
   "outputs": [
    {
     "data": {
      "text/plain": [
       "Image([[224, 233, 234, ..., 109, 108,  92],\n",
       "       [210, 232, 233, ...,  95,  98,  98],\n",
       "       [216, 211, 230, ...,  85, 103, 108],\n",
       "       ...,\n",
       "       [ 76,  63,  58, ...,  34,  43,  30],\n",
       "       [ 65,  51,  59, ...,  35,  29,  41],\n",
       "       [ 49,  47,  63, ...,  43,  30,  29]], dtype=uint8)"
      ]
     },
     "execution_count": 9,
     "metadata": {},
     "output_type": "execute_result"
    }
   ],
   "source": [
    "image1\n"
   ]
  },
  {
   "cell_type": "code",
   "execution_count": 10,
   "metadata": {},
   "outputs": [
    {
     "data": {
      "text/plain": [
       "Image([[224, 233, 234, ..., 109, 108,  92],\n",
       "       [210, 232, 233, ...,  95,  98,  98],\n",
       "       [216, 211, 230, ...,  85, 103, 108],\n",
       "       ...,\n",
       "       [ 76,  63,  58, ...,  34,  43,  30],\n",
       "       [ 65,  51,  59, ...,  35,  29,  41],\n",
       "       [ 49,  47,  63, ...,  43,  30,  29]], dtype=uint8)"
      ]
     },
     "execution_count": 10,
     "metadata": {},
     "output_type": "execute_result"
    }
   ],
   "source": [
    "image2"
   ]
  },
  {
   "cell_type": "code",
   "execution_count": null,
   "metadata": {
    "collapsed": true
   },
   "outputs": [],
   "source": []
  }
 ],
 "metadata": {
  "kernelspec": {
   "display_name": "Python 3",
   "language": "python",
   "name": "python3"
  },
  "language_info": {
   "codemirror_mode": {
    "name": "ipython",
    "version": 3
   },
   "file_extension": ".py",
   "mimetype": "text/x-python",
   "name": "python",
   "nbconvert_exporter": "python",
   "pygments_lexer": "ipython3",
   "version": "3.6.2"
  }
 },
 "nbformat": 4,
 "nbformat_minor": 2
}
