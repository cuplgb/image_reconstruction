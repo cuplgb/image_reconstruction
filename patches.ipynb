{
 "cells": [
  {
   "cell_type": "code",
   "execution_count": 272,
   "metadata": {
    "scrolled": true
   },
   "outputs": [],
   "source": [
    "from scipy import misc\n",
    "import tensorflow as tf\n",
    "import numpy as np\n",
    "import imageio\n",
    "\n"
   ]
  },
  {
   "cell_type": "code",
   "execution_count": 266,
   "metadata": {
    "collapsed": true
   },
   "outputs": [],
   "source": [
    "def extract_image_patches(image, patch_dims, step):\n",
    "    patches = []\n",
    "    for ii in range(0,image.shape[0],step[0]):\n",
    "        for jj in range(0,image.shape[1],step[1]):\n",
    "            patch = (image[ii:(ii+patch_dims[0]),jj:(jj+patch_dims[1])]).tolist()\n",
    "            patches.append(patch)\n",
    "            \n",
    "    return np.asarray(patches)\n",
    "\n",
    "def combine_image_patches(patches, patch_dims, step, image_dims):\n",
    "    image = np.empty(image_dims, dtype=int)\n",
    "    cnt = 0\n",
    "    for ii in range(0,image.shape[0],step[0]):\n",
    "        for jj in range(0,image.shape[1],step[1]):\n",
    "            image[ii:(ii+patch_dims[0]),jj:(jj+patch_dims[1])] = np.maximum(\n",
    "                np.minimum(np.rint(patches[cnt]),256),0)\n",
    "            cnt = cnt+1\n",
    "            \n",
    "    return image"
   ]
  },
  {
   "cell_type": "code",
   "execution_count": 294,
   "metadata": {},
   "outputs": [],
   "source": [
    "\n",
    "patch_dims = [16,16]\n",
    "image_dims = [512,512]\n",
    "input_image= imageio.imread('./lena_gray.bmp', flatten= 0)\n",
    "patches = extract_image_patches(input_image, patch_dims, patch_dims)\n",
    "patches_reshaped = patches.reshape(int(image_dims[0]/patch_dims[0]*image_dims[1]/patch_dims[1]),\n",
    "                                   patch_dims[0]*patch_dims[1])/256\n"
   ]
  },
  {
   "cell_type": "code",
   "execution_count": 297,
   "metadata": {},
   "outputs": [],
   "source": [
    "\n",
    "input_units = patch_dims[0]*patch_dims[1]\n",
    "hidden_units = 128\n",
    "display_step = 100\n",
    "X = tf.placeholder(\"float\", [None, input_units])\n",
    "weights = {\n",
    "    'encoder':tf.Variable(tf.random_normal([input_units, hidden_units])),\n",
    "    'decoder':tf.Variable(tf.random_normal([hidden_units, input_units]))\n",
    "}\n",
    "\n",
    "biases = {\n",
    "    'encoder':tf.Variable(tf.random_normal([hidden_units])),\n",
    "    'decoder':tf.Variable(tf.random_normal([input_units]))\n",
    "}\n",
    "\n",
    "def encoder(x):\n",
    "    layer = tf.nn.softmax(tf.add(tf.matmul(x,weights['encoder']),biases['encoder']))\n",
    "    #layer = tf.add(tf.matmul(x,weights['encoder']),biases['encoder'])\n",
    "    return layer\n",
    "                          \n",
    "def decoder(x):\n",
    "    layer = tf.nn.sigmoid(tf.add(tf.matmul(x,weights['decoder']),biases['decoder']))\n",
    "    #layer = tf.add(tf.matmul(x,weights['decoder']),biases['decoder'])\n",
    "    return layer  "
   ]
  },
  {
   "cell_type": "code",
   "execution_count": 298,
   "metadata": {
    "scrolled": true
   },
   "outputs": [
    {
     "name": "stdout",
     "output_type": "stream",
     "text": [
      "Step 1: Minibatch Loss: 0.098973\n",
      "Step 100: Minibatch Loss: 0.065135\n",
      "Step 200: Minibatch Loss: 0.049576\n",
      "Step 300: Minibatch Loss: 0.042308\n",
      "Step 400: Minibatch Loss: 0.039208\n",
      "Step 500: Minibatch Loss: 0.037575\n",
      "Step 600: Minibatch Loss: 0.036324\n",
      "Step 700: Minibatch Loss: 0.035065\n",
      "Step 800: Minibatch Loss: 0.033664\n",
      "Step 900: Minibatch Loss: 0.032122\n",
      "Step 1000: Minibatch Loss: 0.030487\n",
      "Step 1100: Minibatch Loss: 0.028829\n",
      "Step 1200: Minibatch Loss: 0.027198\n",
      "Step 1300: Minibatch Loss: 0.025620\n",
      "Step 1400: Minibatch Loss: 0.024116\n",
      "Step 1500: Minibatch Loss: 0.022700\n",
      "Step 1600: Minibatch Loss: 0.021377\n",
      "Step 1700: Minibatch Loss: 0.020153\n",
      "Step 1800: Minibatch Loss: 0.019029\n",
      "Step 1900: Minibatch Loss: 0.018003\n",
      "Step 2000: Minibatch Loss: 0.017072\n",
      "Step 2100: Minibatch Loss: 0.016232\n",
      "Step 2200: Minibatch Loss: 0.015478\n",
      "Step 2300: Minibatch Loss: 0.014804\n",
      "Step 2400: Minibatch Loss: 0.014206\n",
      "Step 2500: Minibatch Loss: 0.013676\n",
      "Step 2600: Minibatch Loss: 0.013209\n",
      "Step 2700: Minibatch Loss: 0.012796\n",
      "Step 2800: Minibatch Loss: 0.012431\n",
      "Step 2900: Minibatch Loss: 0.012108\n",
      "Step 3000: Minibatch Loss: 0.011821\n",
      "Step 3100: Minibatch Loss: 0.011566\n",
      "Step 3200: Minibatch Loss: 0.011338\n",
      "Step 3300: Minibatch Loss: 0.011133\n",
      "Step 3400: Minibatch Loss: 0.010949\n",
      "Step 3500: Minibatch Loss: 0.010782\n",
      "Step 3600: Minibatch Loss: 0.010631\n",
      "Step 3700: Minibatch Loss: 0.010492\n",
      "Step 3800: Minibatch Loss: 0.010365\n",
      "Step 3900: Minibatch Loss: 0.010248\n",
      "Step 4000: Minibatch Loss: 0.010140\n",
      "Step 4100: Minibatch Loss: 0.010039\n",
      "Step 4200: Minibatch Loss: 0.009946\n",
      "Step 4300: Minibatch Loss: 0.009858\n",
      "Step 4400: Minibatch Loss: 0.009776\n",
      "Step 4500: Minibatch Loss: 0.009698\n",
      "Step 4600: Minibatch Loss: 0.009626\n",
      "Step 4700: Minibatch Loss: 0.009557\n",
      "Step 4800: Minibatch Loss: 0.009491\n",
      "Step 4900: Minibatch Loss: 0.009429\n",
      "Step 5000: Minibatch Loss: 0.009370\n",
      "Step 5100: Minibatch Loss: 0.009314\n",
      "Step 5200: Minibatch Loss: 0.009260\n",
      "Step 5300: Minibatch Loss: 0.009208\n",
      "Step 5400: Minibatch Loss: 0.009158\n",
      "Step 5500: Minibatch Loss: 0.009110\n",
      "Step 5600: Minibatch Loss: 0.009064\n",
      "Step 5700: Minibatch Loss: 0.009019\n",
      "Step 5800: Minibatch Loss: 0.008976\n",
      "Step 5900: Minibatch Loss: 0.008934\n",
      "Step 6000: Minibatch Loss: 0.008893\n",
      "Step 6100: Minibatch Loss: 0.008853\n",
      "Step 6200: Minibatch Loss: 0.008814\n",
      "Step 6300: Minibatch Loss: 0.008776\n",
      "Step 6400: Minibatch Loss: 0.008738\n",
      "Step 6500: Minibatch Loss: 0.008702\n",
      "Step 6600: Minibatch Loss: 0.008666\n",
      "Step 6700: Minibatch Loss: 0.008630\n",
      "Step 6800: Minibatch Loss: 0.008596\n",
      "Step 6900: Minibatch Loss: 0.008562\n",
      "Step 7000: Minibatch Loss: 0.008528\n",
      "Step 7100: Minibatch Loss: 0.008495\n",
      "Step 7200: Minibatch Loss: 0.008462\n",
      "Step 7300: Minibatch Loss: 0.008430\n",
      "Step 7400: Minibatch Loss: 0.008398\n",
      "Step 7500: Minibatch Loss: 0.008367\n",
      "Step 7600: Minibatch Loss: 0.008336\n",
      "Step 7700: Minibatch Loss: 0.008305\n",
      "Step 7800: Minibatch Loss: 0.008275\n",
      "Step 7900: Minibatch Loss: 0.008245\n",
      "Step 8000: Minibatch Loss: 0.008216\n",
      "Step 8100: Minibatch Loss: 0.008187\n",
      "Step 8200: Minibatch Loss: 0.008158\n",
      "Step 8300: Minibatch Loss: 0.008130\n",
      "Step 8400: Minibatch Loss: 0.008101\n",
      "Step 8500: Minibatch Loss: 0.008073\n",
      "Step 8600: Minibatch Loss: 0.008046\n",
      "Step 8700: Minibatch Loss: 0.008018\n",
      "Step 8800: Minibatch Loss: 0.007991\n",
      "Step 8900: Minibatch Loss: 0.007964\n",
      "Step 9000: Minibatch Loss: 0.007937\n",
      "Step 9100: Minibatch Loss: 0.007910\n",
      "Step 9200: Minibatch Loss: 0.007884\n",
      "Step 9300: Minibatch Loss: 0.007857\n",
      "Step 9400: Minibatch Loss: 0.007831\n",
      "Step 9500: Minibatch Loss: 0.007805\n",
      "Step 9600: Minibatch Loss: 0.007779\n",
      "Step 9700: Minibatch Loss: 0.007753\n",
      "Step 9800: Minibatch Loss: 0.007727\n",
      "Step 9900: Minibatch Loss: 0.007701\n",
      "Step 10000: Minibatch Loss: 0.007675\n"
     ]
    },
    {
     "name": "stderr",
     "output_type": "stream",
     "text": [
      "/home/am2442/anaconda3/lib/python3.6/site-packages/imageio/core/util.py:104: UserWarning: Conversion from int64 to uint8, range [30, 204]\n",
      "  'range [{2}, {3}]'.format(dtype_str, out_type.__name__, mi, ma))\n"
     ]
    }
   ],
   "source": [
    "\n",
    "batch_size = 64\n",
    "lr = 0.01\n",
    "num_steps = 10000\n",
    "encoder_op = encoder(X)\n",
    "decoder_op = decoder(encoder_op)\n",
    "y_pred = decoder_op\n",
    "y_true = X\n",
    "\n",
    "loss = tf.reduce_mean(tf.pow(y_pred - y_true, 2))\n",
    "#optimiser = tf.train.GradientDescentOptimizer(learning_rate=lr).minimize(loss)\n",
    "optimiser = tf.train.MomentumOptimizer(learning_rate=lr,momentum =0.99).minimize(loss)\n",
    "init = tf.global_variables_initializer()\n",
    "\n",
    "\n",
    "with tf.Session() as sess:\n",
    "    sess.run(init)\n",
    "    \n",
    "    for ii in range(1,num_steps+1):\n",
    "        for jj in range(0,(len(patches_reshaped)-batch_size),batch_size):\n",
    "            end = jj+batch_size\n",
    "            batch = patches_reshaped[jj:end,:]\n",
    "            \n",
    "            _, l = sess.run([optimiser, loss], feed_dict={X:batch})\n",
    "\n",
    "        if ii % display_step == 0 or ii == 1:\n",
    "            print('Step %i: Minibatch Loss: %f' % (ii, l))\n",
    "\n",
    "            \n",
    "\n",
    "\n",
    "    g = sess.run([decoder_op], feed_dict={X:patches_reshaped})\n",
    "    \n",
    "\n",
    "patches_new = g[0].reshape(int(image_dims[0]/patch_dims[0]*image_dims[1]/patch_dims[1]),\n",
    "                                   patch_dims[0],\n",
    "                                   patch_dims[1])*256\n",
    "image = combine_image_patches(patches_new, patch_dims, patch_dims,image_dims)\n",
    "imageio.imsave(\"rec.png\",im=image)"
   ]
  },
  {
   "cell_type": "code",
   "execution_count": 291,
   "metadata": {},
   "outputs": [
    {
     "data": {
      "text/plain": [
       "array([[ 0.625     ,  0.625     ,  0.625     , ...,  0.6171875 ,\n",
       "         0.60546875,  0.61328125],\n",
       "       [ 0.6328125 ,  0.62109375,  0.625     , ...,  0.6015625 ,\n",
       "         0.59375   ,  0.59375   ],\n",
       "       [ 0.609375  ,  0.60546875,  0.625     , ...,  0.6015625 ,\n",
       "         0.58984375,  0.59765625],\n",
       "       ..., \n",
       "       [ 0.33203125,  0.32421875,  0.30078125, ...,  0.19921875,\n",
       "         0.19921875,  0.22265625],\n",
       "       [ 0.22265625,  0.21875   ,  0.234375  , ...,  0.2890625 ,\n",
       "         0.30078125,  0.328125  ],\n",
       "       [ 0.2421875 ,  0.2265625 ,  0.25390625, ...,  0.41796875,\n",
       "         0.421875  ,  0.4375    ]])"
      ]
     },
     "execution_count": 291,
     "metadata": {},
     "output_type": "execute_result"
    }
   ],
   "source": [
    "patches_reshaped"
   ]
  },
  {
   "cell_type": "code",
   "execution_count": null,
   "metadata": {},
   "outputs": [],
   "source": []
  },
  {
   "cell_type": "code",
   "execution_count": null,
   "metadata": {},
   "outputs": [],
   "source": []
  },
  {
   "cell_type": "code",
   "execution_count": null,
   "metadata": {},
   "outputs": [],
   "source": []
  },
  {
   "cell_type": "code",
   "execution_count": null,
   "metadata": {},
   "outputs": [],
   "source": []
  },
  {
   "cell_type": "code",
   "execution_count": null,
   "metadata": {},
   "outputs": [],
   "source": []
  },
  {
   "cell_type": "code",
   "execution_count": null,
   "metadata": {
    "collapsed": true
   },
   "outputs": [],
   "source": []
  }
 ],
 "metadata": {
  "kernelspec": {
   "display_name": "Python 3",
   "language": "python",
   "name": "python3"
  },
  "language_info": {
   "codemirror_mode": {
    "name": "ipython",
    "version": 3
   },
   "file_extension": ".py",
   "mimetype": "text/x-python",
   "name": "python",
   "nbconvert_exporter": "python",
   "pygments_lexer": "ipython3",
   "version": "3.6.2"
  }
 },
 "nbformat": 4,
 "nbformat_minor": 2
}
